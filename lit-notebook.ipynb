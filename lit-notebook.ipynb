{
 "cells": [
  {
   "cell_type": "markdown",
   "metadata": {},
   "source": [
    "# Local-in-time rerun"
   ]
  },
  {
   "cell_type": "code",
   "execution_count": 2,
   "metadata": {},
   "outputs": [],
   "source": [
    "import tools\n",
    "import numpy as np\n",
    "%matplotlib inline\n",
    "import matplotlib.pyplot as plt\n",
    "import copy\n",
    "import time\n",
    "%load_ext snakeviz\n",
    "import os   \n",
    "import pickle\n",
    "import pprint\n",
    "import lit "
   ]
  },
  {
   "cell_type": "code",
   "execution_count": null,
   "metadata": {},
   "outputs": [],
   "source": [
    "N = 512\n",
    "L = 1.0\n",
    "st = tools.ScalarTool(N,L)\n",
    "\n",
    "th = np.sin(2*np.pi/L * st.X[0])\n",
    "st.plot(th,high_quality=True)\n",
    "plt.savefig('initial_condition.eps',format = 'eps',dpi = 500)\n",
    "plt.show()"
   ]
  },
  {
   "cell_type": "code",
   "execution_count": null,
   "metadata": {},
   "outputs": [],
   "source": [
    "N = 512\n",
    "L = 1.0\n",
    "vt = tools.VectorTool(N,L)\n",
    "u = np.zeros((2,N,N))\n",
    "u[0] = np.sin(2*np.pi/L * st.X[1])\n",
    "\n",
    "\n",
    "vector = u\n",
    "plt.rc('text', usetex=True)\n",
    "plt.rc('font', family='serif', size=12)\n",
    "\n",
    "\n",
    "m = max(round(vt.N / 18), 1)\n",
    "Q = plt.quiver(vt.X[0][1:-1:m, 1:-1:m],\n",
    "       vt.X[1][1:-1:m, 1:-1:m],\n",
    "       vector[0][1:-1:m, 1:-1:m],\n",
    "       vector[1][1:-1:m, 1:-1:m], linewidths=2.0)\n",
    "plt.quiverkey(\n",
    "Q, 0.8, 1.03, 2, r'%.2f $\\frac{m}{s}$' % np.amax(vector), labelpos='E',)\n",
    "plt.xlabel(r'$x$')\n",
    "plt.ylabel(r'$y$')\n",
    "plt.title('')\n",
    "plt.xlim(0.0, vt.L)\n",
    "plt.ylim(0.0, vt.L)\n",
    "plt.axis('scaled')\n",
    "\n",
    "plt.streamplot(vt.X[0][1:-1:m, 1:-1:m],\n",
    "       vt.X[1][1:-1:m, 1:-1:m],\n",
    "       vector[0][1:-1:m, 1:-1:m],\n",
    "       vector[1][1:-1:m, 1:-1:m])\n",
    "plt.savefig('velocity_field.eps',format = 'eps',dpi = 500)\n",
    "plt.show()"
   ]
  },
  {
   "cell_type": "code",
   "execution_count": 3,
   "metadata": {},
   "outputs": [
    {
     "name": "stdout",
     "output_type": "stream",
     "text": [
      "dt =  0.003003003003003003\n"
     ]
    }
   ],
   "source": [
    "N = 64\n",
    "M = 1000\n",
    "L = 1.0\n",
    "h = L/N\n",
    "T = 3.0\n",
    "dt = T/M\n",
    "kappa = 0.0\n",
    "gamma = 1.0\n",
    "ftype = np.float64\n",
    "ctype = np.complex128\n",
    "\n",
    "st = tools.ScalarTool(N,L)\n",
    "vt = tools.VectorTool(N,L)\n",
    "\n",
    "\n",
    "sol_lit = lit.sim(N=N,M=M-1,Pe = np.inf,plot=False,T=T,save_th_every=M-1,save_u_every=1)\n",
    "\n"
   ]
  },
  {
   "cell_type": "code",
   "execution_count": null,
   "metadata": {},
   "outputs": [],
   "source": []
  }
 ],
 "metadata": {
  "kernelspec": {
   "display_name": "Python 3",
   "language": "python",
   "name": "python3"
  },
  "language_info": {
   "codemirror_mode": {
    "name": "ipython",
    "version": 3
   },
   "file_extension": ".py",
   "mimetype": "text/x-python",
   "name": "python",
   "nbconvert_exporter": "python",
   "pygments_lexer": "ipython3",
   "version": "3.6.4"
  }
 },
 "nbformat": 4,
 "nbformat_minor": 2
}
