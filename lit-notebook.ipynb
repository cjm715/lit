{
 "cells": [
  {
   "cell_type": "markdown",
   "metadata": {},
   "source": [
    "# Local-in-time rerun"
   ]
  },
  {
   "cell_type": "code",
   "execution_count": null,
   "metadata": {},
   "outputs": [],
   "source": [
    "%load_ext autoreload\n",
    "import tools\n",
    "import numpy as np\n",
    "%matplotlib inline\n",
    "import matplotlib.pyplot as plt\n",
    "import copy\n",
    "import time\n",
    "%load_ext snakeviz\n",
    "import os   \n",
    "import pickle\n",
    "import pprint\n",
    "from lit_rerun import *\n",
    "%autoreload 2\n",
    "\n"
   ]
  },
  {
   "cell_type": "markdown",
   "metadata": {},
   "source": [
    "# Plotting and post-processing"
   ]
  },
  {
   "cell_type": "code",
   "execution_count": null,
   "metadata": {},
   "outputs": [],
   "source": [
    "plt.semilogy(hist_time,np.array(hist_th_hm1),label= 'H^-1')\n",
    "plt.semilogy(hist_time,np.array(hist_th_l2),label= 'L^2')\n",
    "plt.semilogy(hist_time,np.array(hist_th_h1),label= 'H^1')\n",
    "hm1= hist_hm1[0]\n",
    "h1 = st.h1norm(hist_th[0])\n",
    "l2 = hist_l2[0]\n",
    "t = time_array\n",
    "pred = hm1*np.exp(-t-1/(2.*Pe)*h1**2./l2**2.*(np.exp(2.*t)-1.))\n",
    "#pred = hm1*np.exp(-t)\n",
    "plt.semilogy(time_array, pred, label= 'Lower Bound')\n",
    "plt.legend()\n",
    "#plt.xlim([0,0.5])\n",
    "plt.ylim([1e-6,1e2])\n",
    "plt.show()\n",
    "\n",
    "\n",
    "lam = (2.*np.pi*np.array(hist_th_hm1)/np.array(hist_th_l2))\n",
    "plt.semilogy(hist_time,lam,label= r'$\\lambda$')\n",
    "plt.legend()\n",
    "#plt.xlim([0,0.5])\n",
    "#plt.ylim([1e-6,1e2])\n",
    "plt.show()\n",
    "\n",
    "plt.semilogy(hist_time,(2.*np.pi)**-0.5*lam/(1./(Pe)**0.5),label= r'$\\lambda / \\lambda_B$')\n",
    "plt.legend()\n",
    "#plt.xlim([0,0.5])\n",
    "#plt.ylim([1e-6,1e2])\n",
    "plt.show()\n",
    "\n",
    "plt.semilogy(hist_time,np.array(hist_u_h1),label= 'velocity H^1')\n",
    "plt.semilogy(hist_time,np.array(hist_u_l2),label= 'velocity L^2')\n",
    "#plt.semilogy(hist_time,[np.amax(np.array(u)) for u in hist_u],label= 'velocity L^\\infty')\n",
    "plt.legend()\n",
    "#plt.xlim([0,0.5])\n",
    "#plt.ylim([1e-6,1e2])\n",
    "plt.show()\n",
    "\n",
    "\n",
    "r= np.zeros(len(hist_time))\n",
    "for i in range(len(hist_time)):\n",
    "    if i == 0 :\n",
    "        delta_t = hist_time[i+1]-hist_time[i]\n",
    "        dhm1_dt = (hist_th_hm1[i+1]-hist_th_hm1[i])/delta_t\n",
    "        r[i] = dhm1_dt/hist_th_hm1[i]\n",
    "        \n",
    "    if i > 0 and i < len(hist_time)-1:\n",
    "        delta_t = hist_time[i+1]-hist_time[i-1]\n",
    "        dhm1_dt = (hist_th_hm1[i+1]-hist_th_hm1[i-1])/delta_t\n",
    "        r[i] = dhm1_dt/hist_th_hm1[i]\n",
    "        \n",
    "    if i == len(hist_time)-1:\n",
    "        delta_t = hist_time[i]-hist_time[i-1]\n",
    "        dhm1_dt = (hist_th_hm1[i]-hist_th_hm1[i-1])/delta_t\n",
    "        r[i] = dhm1_dt/hist_th_hm1[i]\n",
    "        \n",
    "plt.semilogy(hist_time,-r,label= 'r(t)')\n",
    "plt.legend()\n",
    "plt.show()"
   ]
  },
  {
   "cell_type": "markdown",
   "metadata": {},
   "source": [
    "# Testing Convergence"
   ]
  },
  {
   "cell_type": "code",
   "execution_count": 59,
   "metadata": {},
   "outputs": [
    {
     "name": "stdout",
     "output_type": "stream",
     "text": [
      "Pe =  512\n",
      "dt (CFL) =  0.00390625\n",
      "N (Boyd) =  512\n",
      "N = 256\n",
      "dt =  0.00125\n",
      "Pe =  512\n",
      "dt (CFL) =  0.00390625\n",
      "N (Boyd) =  512\n",
      "N = 256\n",
      "dt =  0.000625\n",
      "Pe =  512\n",
      "dt (CFL) =  0.00390625\n",
      "N (Boyd) =  512\n",
      "N = 256\n",
      "dt =  0.0003125\n",
      "Pe =  512\n",
      "dt (CFL) =  0.00390625\n",
      "N (Boyd) =  512\n",
      "N = 256\n",
      "dt =  0.00015625\n",
      "4.12051755302e-14\n",
      "2.59251894698e-15\n",
      "p =  3.99039911901\n"
     ]
    }
   ],
   "source": [
    "s = []\n",
    "ss=[]\n",
    "N= 256\n",
    "L = 1.0\n",
    "M_list = [8,16,32,64] \n",
    "T = 0.01\n",
    "Pe = 512\n",
    "\n",
    "dt_list = []\n",
    "for M in M_list:\n",
    "    s.append(sim(N = N, M = M, T =T, L = L,save_every =1,\n",
    "                 T_kick=0.01, Pe = Pe, plot=False))\n",
    "    dt_list.append(T/M)\n",
    "error_list = []\n",
    "st = tools.ScalarTool(N,L)\n",
    "for i in range(len(M_list)-1):\n",
    "        error_list.append(st.l2norm(s[i].hist_th[-1] - s[-1].hist_th[-1]))\n",
    "\n",
    "error_array = np.array(error_list)\n",
    "dt_array = np.array(dt_list)\n",
    "print(st.l2norm(s[-3].hist_th[-1] - s[-2].hist_th[-1]))\n",
    "print(st.l2norm(s[-2].hist_th[-1] - s[-1].hist_th[-1]))\n",
    "R = st.l2norm(s[-3].hist_th[-1] - s[-2].hist_th[-1])/st.l2norm(s[-2].hist_th[-1] - s[-1].hist_th[-1])\n",
    "p = np.log(R)/np.log(2)\n",
    "print('p = ', p)"
   ]
  },
  {
   "cell_type": "code",
   "execution_count": null,
   "metadata": {},
   "outputs": [],
   "source": [
    "plt.loglog(dt_array[:-1], error_array, label = 'error')\n",
    "plt.loglog(dt_array, error_array[0]*(dt_array/dt_array[0])**4, label = 'expected')\n",
    "plt.legend()\n",
    "plt.show()\n",
    "print(error_array)\n",
    "print(dt_array)\n",
    "print([s[i].hist_time[-1] for i in range(len(s))])"
   ]
  },
  {
   "cell_type": "code",
   "execution_count": null,
   "metadata": {},
   "outputs": [],
   "source": [
    "st.l2norm(s[2].hist_th[0] - s[1].hist_th[1])"
   ]
  },
  {
   "cell_type": "code",
   "execution_count": null,
   "metadata": {},
   "outputs": [],
   "source": [
    "gamma = 1.0\n",
    "N = 128\n",
    "L= 1.0\n",
    "kappa = 0.0\n",
    "st = tools.ScalarTool(N,L)\n",
    "vt = tools.VectorTool(N,L)\n",
    "ftype = np.float64\n",
    "T=0.32\n",
    "M_list=[32,64,128,256,512]\n",
    "\n",
    "\n",
    "def f(th,u):\n",
    "    return -1.0*np.sum(vt.dealias(u)*st.grad(st.dealias(th)),0) + kappa * st.lap(st.dealias(th))\n",
    "    #return -1.0*np.sum(u*st.grad(th),0) + kappa * st.lap(th)\n",
    "def u_lit(th0):\n",
    "    u_lit = st.dealias(th0) * vt.dealias(st.grad_invlap(th0))\n",
    "    #print(vt.l2norm(u_lit))\n",
    "    u_lit = - vt.invlap(vt.div_free_proj(u_lit))\n",
    "    u_lit = gamma * L * u_lit / st.l2norm(vt.curl(u_lit))\n",
    "    return u_lit\n",
    "\n",
    "# def f_lit(th):\n",
    "#     u_kick = np.zeros((2,N,N),dtype = ftype)\n",
    "#     u_kick[0,:,:] = np.sin(2.*np.pi*X[1]/L)\n",
    "#     return f(th,u_kick)\n",
    "\n",
    "def f_lit(th):\n",
    "    return f(th,u_lit(th))\n",
    "\n",
    "\n",
    "for dt_kick in [0.1,0.01,0.001,0.0001,0.0000000001]:\n",
    "\n",
    "    th_list = []\n",
    "    th =np.sin(2*np.pi*st.X[0]/L)\n",
    "    u_kick = np.zeros((2,N,N),dtype = ftype)\n",
    "    u_kick[0,:,:] = np.sin(2.*np.pi*st.X[1]/L)\n",
    "    th_kick= th + dt_kick*f(th,u_kick)\n",
    "\n",
    "    dt_list = []\n",
    "    for M in M_list:\n",
    "        dt = T/M\n",
    "        th =copy.copy(th_kick)\n",
    "        for i in range(M):\n",
    "            k1 = f_lit(th)\n",
    "            k2 = f_lit(th + 0.5*dt*k1)\n",
    "            k3 = f_lit(th + 0.5*dt*k2)\n",
    "            k4 = f_lit(th + dt*k3)\n",
    "            th = th + dt*(1./6.)*(k1 + 2.*k2 + 2.*k3 + k4)\n",
    "            #th = th + dt*k1\n",
    "        th_list.append(th)\n",
    "        dt_list.append(dt)\n",
    "\n",
    "\n",
    "    error_list = []\n",
    "    for i in range(0,len(M_list)-1):\n",
    "        error_list.append(st.l2norm(th_list[i]-th_list[-1]))\n",
    "    plt.figure()\n",
    "    plt.loglog(dt_list[:-1],error_list)\n",
    "    plt.loglog(dt_list,np.array(dt_list)**4)\n",
    "    #plt.ylim(1e0,1e2)\n",
    "    plt.show()"
   ]
  },
  {
   "cell_type": "code",
   "execution_count": null,
   "metadata": {},
   "outputs": [],
   "source": [
    "dt_kick = 0.001\n",
    "th =np.sin(2*np.pi*st.X[0]/L)\n",
    "u_kick = np.zeros((2,N,N),dtype = ftype)\n",
    "u_kick[0,:,:] = np.sin(2.*np.pi*X[1]/L)\n",
    "\n",
    "\n",
    "th= th + dt_kick*f(th,u_kick)\n",
    "\n",
    "u_lit = st.dealias(th) * vt.dealias(st.grad_invlap(th))\n",
    "print(vt.l2norm(u_lit))\n",
    "u_lit = - vt.invlap(vt.div_free_proj(u_lit))\n",
    "print(vt.l2norm(u_lit))\n",
    "u_lit = gamma * L * u_lit / st.l2norm(vt.curl(u_lit))\n",
    "print(vt.h1norm(u_lit))   "
   ]
  },
  {
   "cell_type": "code",
   "execution_count": null,
   "metadata": {},
   "outputs": [],
   "source": [
    "vt.l2norm(u1-u0)"
   ]
  },
  {
   "cell_type": "code",
   "execution_count": null,
   "metadata": {},
   "outputs": [],
   "source": [
    "pickle_file = \"/Volumes/Transcend/LIT/output-pe=1024/pe=1024.pkl\"\n",
    "\n",
    "with open(pickle_file, 'rb') as f:\n",
    "    d = pickle.load(f, encoding='latin1') \n"
   ]
  },
  {
   "cell_type": "code",
   "execution_count": null,
   "metadata": {},
   "outputs": [],
   "source": [
    "time_1024,th_1024 = d"
   ]
  },
  {
   "cell_type": "code",
   "execution_count": null,
   "metadata": {},
   "outputs": [],
   "source": [
    "N=256\n",
    "L=1.0\n",
    "st = tools.ScalarTool(N,L)\n",
    "st.plot(th_1024[-1])"
   ]
  },
  {
   "cell_type": "code",
   "execution_count": null,
   "metadata": {},
   "outputs": [],
   "source": [
    "N=256\n",
    "L=1.0\n",
    "Pe = 1024\n",
    "T=time_1024[-1]\n",
    "dt = 0.001\n",
    "sim_1024 = sim(N = N, dt = dt, T =T, L = L, Pe = Pe, save_every = 100, plot=True)"
   ]
  },
  {
   "cell_type": "code",
   "execution_count": null,
   "metadata": {},
   "outputs": [],
   "source": [
    "st.plot(th_1024[-1])\n",
    "plt.show()\n",
    "st.plot(sim_1024.hist_th[-1])\n",
    "plt.show()"
   ]
  },
  {
   "cell_type": "code",
   "execution_count": null,
   "metadata": {},
   "outputs": [],
   "source": [
    "st.hm1norm(th_1024[-1])"
   ]
  },
  {
   "cell_type": "code",
   "execution_count": null,
   "metadata": {},
   "outputs": [],
   "source": [
    "st.hm1norm(sim_1024.hist_th[-1])"
   ]
  },
  {
   "cell_type": "code",
   "execution_count": null,
   "metadata": {},
   "outputs": [],
   "source": [
    "## time_1024[-1]2"
   ]
  },
  {
   "cell_type": "code",
   "execution_count": null,
   "metadata": {
    "scrolled": true
   },
   "outputs": [],
   "source": [
    "plt.semilogy(sim_1024.hist_time,np.array(sim_1024.hist_th_hm1))\n",
    "plt.semilogy(time_1024, [ st.hm1norm(th) for th in th_1024 ])\n",
    "plt.show()"
   ]
  },
  {
   "cell_type": "code",
   "execution_count": null,
   "metadata": {},
   "outputs": [],
   "source": [
    "plt.semilogy(sim_1024.hist_time,np.array(sim_1024.hist_th_hm1))\n",
    "plt.semilogy(time_1024, [ st.hm1norm(th) for th in th_1024 ])\n",
    "plt.show()"
   ]
  },
  {
   "cell_type": "code",
   "execution_count": null,
   "metadata": {},
   "outputs": [],
   "source": []
  }
 ],
 "metadata": {
  "kernelspec": {
   "display_name": "Python 3",
   "language": "python",
   "name": "python3"
  },
  "language_info": {
   "codemirror_mode": {
    "name": "ipython",
    "version": 3
   },
   "file_extension": ".py",
   "mimetype": "text/x-python",
   "name": "python",
   "nbconvert_exporter": "python",
   "pygments_lexer": "ipython3",
   "version": "3.6.4"
  }
 },
 "nbformat": 4,
 "nbformat_minor": 2
}
