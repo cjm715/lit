{
 "cells": [
  {
   "cell_type": "markdown",
   "metadata": {},
   "source": [
    "# Setup"
   ]
  },
  {
   "cell_type": "code",
   "execution_count": null,
   "metadata": {},
   "outputs": [],
   "source": [
    "import tools\n",
    "import numpy as np\n",
    "%matplotlib inline\n",
    "import matplotlib.pyplot as plt\n",
    "import copy\n",
    "import time\n",
    "import os\n",
    "import pickle\n",
    "import pprint\n",
    "import lit \n",
    "\n",
    "\n",
    "L = 1.0\n",
    "T = 20.0\n",
    "num_intervals = 10\n",
    "total_time = num_intervals*T\n",
    "\n",
    "num_switch_intervals = round(total_time/T)\n",
    "#Pe = 'inf'\n",
    "#kappa = 0.0\n",
    "Pe = 2**11\n",
    "kappa = 1./Pe\n",
    "gamma = 1.0\n",
    "f = 1./T\n",
    "St = f/gamma\n",
    "\n",
    "print('Pe = ', Pe)\n",
    "print('St = ', St)\n",
    "\n",
    "lb = (kappa / gamma)**0.5\n",
    "l_smallest = 0.25 * lb  # a quarter of batchelor scale\n",
    "print('lb = ', lb)\n",
    "num_wavelengths = L / l_smallest\n",
    "N_boyd = tools.N_boyd(num_wavelengths)\n",
    "print('N_boyd = ',N_boyd)\n",
    "\n",
    "N = min(N_boyd, 256)\n",
    "#N = N_boyd\n",
    "dt_cfl = 0.25 * min((L / N)**2. / kappa, (L / N) / (gamma * L))\n",
    "\n",
    "\n",
    "# N=256\n",
    "# dt_cfl = (L / N) / (gamma * L)\n",
    "\n",
    "print('N = ', N)\n",
    "print('dt_cfl = ', dt_cfl)\n",
    "M_cfl = round(T / dt_cfl)\n",
    "print('M_cfl = ', M_cfl)\n",
    "#M = 8000\n",
    "M = M_cfl\n",
    "print('M = ', M)\n",
    "dt = T/M\n",
    "print('dt = ', dt)"
   ]
  },
  {
   "cell_type": "code",
   "execution_count": null,
   "metadata": {
    "scrolled": true
   },
   "outputs": [],
   "source": [
    "A = 2.**0.5/(2.*np.pi/L)\n",
    "ftype = np.float64\n",
    "ctype = np.complex128\n",
    "\n",
    "st = tools.ScalarTool(N,L)\n",
    "vt = tools.VectorTool(N,L)\n",
    "print(L/A )\n",
    "print(A)"
   ]
  },
  {
   "cell_type": "markdown",
   "metadata": {},
   "source": [
    "# Run simulation"
   ]
  },
  {
   "cell_type": "code",
   "execution_count": null,
   "metadata": {
    "scrolled": true
   },
   "outputs": [],
   "source": [
    "output_path = 'output-sinflow-Pe='+str(Pe)+'-St='+str(St)+'/'\n",
    "\n",
    "os.system('rm ' + output_path + 'images/*')\n",
    "os.system('rm ' + output_path + '/*')\n",
    "\n",
    "os.system('mkdir ' + output_path)\n",
    "os.system('mkdir ' + output_path + 'images/')\n",
    "\n",
    "def f(th,u):\n",
    "    th_d = st.dealias(th)\n",
    "    return st.dealias(-1.0 * np.sum(vt.dealias(u) * st.grad(th_d), 0) \n",
    "                      + kappa * st.lap(th_d))\n",
    "\n",
    "th0 = np.sin(2.*np.pi/L*st.X[0])\n",
    "th = copy.copy(th0)\n",
    "steps = 0\n",
    "time = 0\n",
    "frame_num = 0\n",
    "\n",
    "hist_l2norm = [st.l2norm(th)]\n",
    "hist_hm1norm = [st.hm1norm(th)]\n",
    "hist_mean = [np.mean(th)]\n",
    "hist_time = [time]\n",
    "hist_th = [th]\n",
    "\n",
    "for i in range(num_switch_intervals):\n",
    "    if i % 2 == 0:\n",
    "        u = np.zeros((2,N,N))\n",
    "        phi = np.random.uniform(0, 2*np.pi)\n",
    "        u[0] = A*np.sin(2.*np.pi/L*st.X[1] + phi)\n",
    "    else:\n",
    "        u = np.zeros((2,N,N))\n",
    "        phi = np.random.uniform(0, 2*np.pi)\n",
    "        u[1] = A*np.sin(2.*np.pi/L*st.X[0] + phi)\n",
    "        \n",
    "    for j in range(M):\n",
    "        if steps % 100 == 0:\n",
    "\n",
    "            fig = plt.figure()\n",
    "\n",
    "            st.plot(th,high_quality = True)\n",
    "            plt.title('Time = %.3f' % time)\n",
    "            plt.savefig(output_path + 'images/' + \"image%.4d.png\" % \n",
    "                        frame_num, format='png',dpi = 300)\n",
    "            plt.show()\n",
    "            plt.close(fig)\n",
    "            \n",
    "            hist_l2norm.append(st.l2norm(th))\n",
    "            hist_hm1norm.append(st.hm1norm(th))\n",
    "            hist_mean.append(np.mean(th))\n",
    "            hist_time.append(time)\n",
    "            hist_th.append(th)\n",
    "            \n",
    "            frame_num += 1\n",
    "        \n",
    "        \n",
    "        k1 = f(th, u)\n",
    "        k2 = f(th + 0.5 * dt * k1, u)\n",
    "        k3 = f(th + 0.5 * dt * k2, u)\n",
    "        k4 = f(th + dt * k3, u)\n",
    "        th = th + dt * (1.0 / 6.0) * (k1 + 2.0 * k2 + 2.0 * k3 + k4)\n",
    "\n",
    "        time = time + dt\n",
    "        \n",
    "        steps += 1"
   ]
  },
  {
   "cell_type": "markdown",
   "metadata": {},
   "source": [
    "# Save movie"
   ]
  },
  {
   "cell_type": "code",
   "execution_count": null,
   "metadata": {
    "scrolled": true
   },
   "outputs": [],
   "source": [
    "os.system(\"ffmpeg -y -framerate 80 -i \" + output_path + 'images/'\n",
    "      \"image%04d.png -c:v libx264 -pix_fmt yuv420p \" + output_path + \"movie.mp4\")"
   ]
  },
  {
   "cell_type": "markdown",
   "metadata": {},
   "source": [
    "# Plotting"
   ]
  },
  {
   "cell_type": "code",
   "execution_count": null,
   "metadata": {},
   "outputs": [],
   "source": [
    "plt.semilogy(hist_time,hist_l2norm)\n",
    "plt.xlabel('Time t')\n",
    "plt.ylabel('$L^{2}$ norm')\n",
    "plt.savefig(output_path+'l2_norm.eps',format = 'eps',dpi = 300)\n",
    "plt.show()\n"
   ]
  },
  {
   "cell_type": "code",
   "execution_count": null,
   "metadata": {},
   "outputs": [],
   "source": [
    "plt.semilogy(hist_time,hist_hm1norm)\n",
    "plt.xlabel('Time t')\n",
    "plt.ylabel('$H^{-1}$ norm')\n",
    "plt.savefig(output_path+'hm1_norm.eps',format = 'eps',dpi = 300)\n",
    "plt.show()"
   ]
  },
  {
   "cell_type": "code",
   "execution_count": null,
   "metadata": {},
   "outputs": [],
   "source": [
    "plt.plot(hist_time,np.array(hist_hm1norm)/np.array(hist_l2norm))\n",
    "plt.savefig(output_path+'hm1-l2-ratio.eps',format = 'eps',dpi = 300)\n",
    "plt.xlabel('Time t')\n",
    "plt.ylabel('$H^{-1}-L^2$ ratio')\n",
    "plt.show()"
   ]
  },
  {
   "cell_type": "markdown",
   "metadata": {},
   "source": [
    "# Saving model"
   ]
  },
  {
   "cell_type": "code",
   "execution_count": null,
   "metadata": {},
   "outputs": [],
   "source": [
    "model = {}\n",
    "model['Pe'] = Pe\n",
    "model['St'] = St\n",
    "model['L'] = L\n",
    "model['T'] = T\n",
    "model['kappa'] = kappa\n",
    "model['U'] = vt.l2norm(u)/L\n",
    "model['gamma'] = vt.h1norm(u)/L\n",
    "model['dt'] = dt\n",
    "model['hist_l2norm'] = hist_l2norm\n",
    "model['hist_hm1norm'] = hist_hm1norm\n",
    "model['hist_mean'] = hist_mean\n",
    "model['hist_time'] = hist_time \n",
    "model['hist_th'] = hist_th\n"
   ]
  },
  {
   "cell_type": "code",
   "execution_count": null,
   "metadata": {},
   "outputs": [],
   "source": [
    "with open(output_path +'data.p', 'wb') as f:\n",
    "    pickle.dump(model, f)"
   ]
  },
  {
   "cell_type": "markdown",
   "metadata": {},
   "source": [
    "# Load model"
   ]
  },
  {
   "cell_type": "code",
   "execution_count": null,
   "metadata": {},
   "outputs": [],
   "source": [
    "output_path =  'output-sinflow-Pe='+str(128)+'-St='+str(0.25)+'/'\n",
    "\n",
    "with open(output_path + 'data.p', 'rb') as handle:\n",
    "    model_load = pickle.load(handle)\n",
    "    \n",
    "hist_l2norm = model_load['hist_l2norm']\n",
    "hist_hm1norm = model_load['hist_hm1norm']\n",
    "hist_mean = model_load['hist_mean']\n",
    "hist_time = model_load['hist_time']\n",
    "# hist_th = model_load['hist_th']"
   ]
  }
 ],
 "metadata": {
  "kernelspec": {
   "display_name": "Python 3",
   "language": "python",
   "name": "python3"
  },
  "language_info": {
   "codemirror_mode": {
    "name": "ipython",
    "version": 3
   },
   "file_extension": ".py",
   "mimetype": "text/x-python",
   "name": "python",
   "nbconvert_exporter": "python",
   "pygments_lexer": "ipython3",
   "version": "3.6.6"
  }
 },
 "nbformat": 4,
 "nbformat_minor": 2
}
