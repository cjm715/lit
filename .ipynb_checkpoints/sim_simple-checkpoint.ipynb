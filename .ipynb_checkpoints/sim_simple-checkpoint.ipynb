{
 "cells": [
  {
   "cell_type": "code",
   "execution_count": 1,
   "metadata": {
    "scrolled": false
   },
   "outputs": [],
   "source": [
    "# from integrators import RK4, RK4_timestepper, FE_timestepper\n",
    "# from tools import ScalarTool, VectorTool, create_grid, dt_cfl\n",
    "# from operators import OperatorKit\n",
    "# import numpy as np\n",
    "# import matplotlib.pyplot as plt\n",
    "# from copy import copy\n",
    "\n",
    "# import time\n",
    "\n",
    "# # Parameters\n",
    "# L = 1.0\n",
    "# N = 64\n",
    "# Pe = 100.0\n",
    "# kappa = 1.0/Pe\n",
    "# U=1.0\n",
    "\n",
    "# # Create tool box\n",
    "# st = ScalarTool(N,L)\n",
    "# vt = VectorTool(N,L)\n",
    "# okit = OperatorKit(N, L, kappa)\n",
    "\n",
    "# # Initial condition\n",
    "# X = create_grid(N, L)\n",
    "# th0 = np.sin((2.0 * np.pi / L) * X[0])\n",
    "\n",
    "# # Create operators: d th / dt = operator (th)\n",
    "# def lit_op(scalar):\n",
    "#     return okit.lit_enstrophy_op(scalar,U)\n",
    "\n",
    "# def sin_op(scalar):\n",
    "#     return okit.sin_flow_op(scalar)\n",
    "\n",
    "# time = np.linspace(0,2,2000)\n",
    "# th0 = RK4_timestepper(sin_op,th0,0.001)\n",
    "# th = RK4(lit_op,th0,time)\n"
   ]
  },
  {
   "cell_type": "code",
   "execution_count": 2,
   "metadata": {},
   "outputs": [],
   "source": [
    "# from post_processing import plot_norms, compute_norms\n",
    "\n",
    "# plt.figure(figsize = (8,6))\n",
    "\n",
    "# plot_norms(time,th,N,L,high_quality = True)\n",
    "# plt.show()"
   ]
  },
  {
   "cell_type": "code",
   "execution_count": 3,
   "metadata": {},
   "outputs": [],
   "source": [
    "# for i in range(len(th)):\n",
    "#     if i %20 == 0:\n",
    "#         st.plot(th[i])\n",
    "#         plt.title('Time = %.2f'%time[i])\n",
    "#         plt.show()"
   ]
  },
  {
   "cell_type": "code",
   "execution_count": 4,
   "metadata": {},
   "outputs": [],
   "source": [
    "# from integrators import RK4, RK4_timestepper, FE_timestepper\n",
    "# from tools import ScalarTool, VectorTool, create_grid, dt_cfl\n",
    "# from operators import OperatorKit\n",
    "# import numpy as np\n",
    "# import matplotlib.pyplot as plt\n",
    "# from copy import copy\n",
    "\n",
    "# # Parameters\n",
    "# L = 1.0\n",
    "# N = 64\n",
    "# Pe = 100.0\n",
    "# kappa = 1.0 / Pe\n",
    "# U = 1.0\n",
    "\n",
    "# # Create tool box\n",
    "# st = ScalarTool(N, L)\n",
    "# vt = VectorTool(N,L)\n",
    "# okit = OperatorKit(N, L, kappa)\n",
    "\n",
    "# # Initial condition\n",
    "# X = create_grid(N, L)\n",
    "# th0 = np.sin((2.0 * np.pi / L) * X[0])\n",
    "# th0_hat = st.fft(th0)\n",
    "\n",
    "# # Create operators: d th / dt = operator (th)\n",
    "# def lit_op_hat(scalar_hat):\n",
    "#     return okit.lit_energy_op_hat(scalar_hat, U)\n",
    "\n",
    "# def lit_op(scalar):\n",
    "#     return okit.lit_energy_op(scalar, U)\n",
    "\n",
    "# def sin_op_hat(scalar_hat):\n",
    "#     return okit.sin_flow_op_hat(scalar_hat)\n",
    "\n",
    "# def sin_op(scalar):\n",
    "#     return okit.sin_flow_op(scalar)\n",
    "\n",
    "# time = np.linspace(0, 0.02, 20)\n",
    "# th0 = RK4_timestepper(sin_op, th0, 0.001)\n",
    "# th_hist = RK4(lit_op, th0, time)\n",
    "\n",
    "# th0_hat = RK4_timestepper(sin_op_hat, th0_hat, 0.001)\n",
    "# th_hist_hat = RK4(lit_op_hat, th0_hat, time)\n",
    "# th2_hist = np.array([st.ifft(th_hat) for th_hat in th_hist_hat])\n"
   ]
  },
  {
   "cell_type": "code",
   "execution_count": 5,
   "metadata": {},
   "outputs": [
    {
     "ename": "NameError",
     "evalue": "name 'np' is not defined",
     "output_type": "error",
     "traceback": [
      "\u001b[0;31m---------------------------------------------------------------------------\u001b[0m",
      "\u001b[0;31mNameError\u001b[0m                                 Traceback (most recent call last)",
      "\u001b[0;32m<ipython-input-5-4b12dbc48dad>\u001b[0m in \u001b[0;36m<module>\u001b[0;34m()\u001b[0m\n\u001b[1;32m      1\u001b[0m \u001b[0mN\u001b[0m\u001b[0;34m=\u001b[0m\u001b[0;36m6\u001b[0m\u001b[0;34m\u001b[0m\u001b[0m\n\u001b[0;32m----> 2\u001b[0;31m \u001b[0mscalar_rhat\u001b[0m\u001b[0;34m=\u001b[0m\u001b[0mnp\u001b[0m\u001b[0;34m.\u001b[0m\u001b[0mrandom\u001b[0m\u001b[0;34m.\u001b[0m\u001b[0mrandom\u001b[0m\u001b[0;34m(\u001b[0m\u001b[0;34m(\u001b[0m\u001b[0mN\u001b[0m\u001b[0;34m,\u001b[0m\u001b[0mN\u001b[0m\u001b[0;34m//\u001b[0m\u001b[0;36m2\u001b[0m\u001b[0;34m+\u001b[0m\u001b[0;36m1\u001b[0m\u001b[0;34m)\u001b[0m\u001b[0;34m)\u001b[0m\u001b[0;34m+\u001b[0m\u001b[0;36m1j\u001b[0m\u001b[0;34m*\u001b[0m\u001b[0mnp\u001b[0m\u001b[0;34m.\u001b[0m\u001b[0mrandom\u001b[0m\u001b[0;34m.\u001b[0m\u001b[0mrandom\u001b[0m\u001b[0;34m(\u001b[0m\u001b[0;34m(\u001b[0m\u001b[0;34m(\u001b[0m\u001b[0mN\u001b[0m\u001b[0;34m,\u001b[0m\u001b[0mN\u001b[0m\u001b[0;34m//\u001b[0m\u001b[0;36m2\u001b[0m\u001b[0;34m+\u001b[0m\u001b[0;36m1\u001b[0m\u001b[0;34m)\u001b[0m\u001b[0;34m)\u001b[0m\u001b[0;34m)\u001b[0m\u001b[0;34m\u001b[0m\u001b[0m\n\u001b[0m\u001b[1;32m      3\u001b[0m \u001b[0mb\u001b[0m\u001b[0;34m=\u001b[0m\u001b[0mnp\u001b[0m\u001b[0;34m.\u001b[0m\u001b[0mconj\u001b[0m\u001b[0;34m(\u001b[0m\u001b[0mnp\u001b[0m\u001b[0;34m.\u001b[0m\u001b[0mfliplr\u001b[0m\u001b[0;34m(\u001b[0m\u001b[0mscalar_rhat\u001b[0m\u001b[0;34m[\u001b[0m\u001b[0;34m:\u001b[0m\u001b[0;34m,\u001b[0m \u001b[0;36m1\u001b[0m\u001b[0;34m:\u001b[0m\u001b[0;34m-\u001b[0m\u001b[0;36m1\u001b[0m\u001b[0;34m]\u001b[0m\u001b[0;34m)\u001b[0m\u001b[0;34m)\u001b[0m\u001b[0;34m\u001b[0m\u001b[0m\n\u001b[1;32m      4\u001b[0m \u001b[0ma\u001b[0m\u001b[0;34m=\u001b[0m\u001b[0mscalar_rhat\u001b[0m\u001b[0;34m\u001b[0m\u001b[0m\n\u001b[1;32m      5\u001b[0m \u001b[0mprint\u001b[0m\u001b[0;34m(\u001b[0m\u001b[0mnp\u001b[0m\u001b[0;34m.\u001b[0m\u001b[0mshape\u001b[0m\u001b[0;34m(\u001b[0m\u001b[0ma\u001b[0m\u001b[0;34m)\u001b[0m\u001b[0;34m)\u001b[0m\u001b[0;34m\u001b[0m\u001b[0m\n",
      "\u001b[0;31mNameError\u001b[0m: name 'np' is not defined"
     ]
    }
   ],
   "source": [
    "N=6\n",
    "scalar_rhat=np.random.random((N,N//2+1))+1j*np.random.random(((N,N//2+1)))\n",
    "b=np.conj(np.fliplr(scalar_rhat[:, 1:-1]))\n",
    "a=scalar_rhat\n",
    "print(np.shape(a))\n",
    "print(np.shape(b))\n",
    "c=np.concatenate((a,b),axis=1)\n",
    "c2=np.concatenate((scalar_rhat, np.conj(np.fliplr(scalar_rhat[:, 1:-1]))), axis=1)\n",
    "print(np.amax(np.abs(c-c2)))\n",
    "print(np.allclose(c,c2))\n",
    "np.shape(c)"
   ]
  },
  {
   "cell_type": "code",
   "execution_count": null,
   "metadata": {},
   "outputs": [],
   "source": [
    "10//2\n"
   ]
  },
  {
   "cell_type": "code",
   "execution_count": null,
   "metadata": {},
   "outputs": [],
   "source": [
    "print(st.N)\n",
    "print(st.kx[1:st.N//2])"
   ]
  },
  {
   "cell_type": "code",
   "execution_count": null,
   "metadata": {},
   "outputs": [],
   "source": [
    "N=6\n",
    "v_rhat=np.random.random((2,N,N//2+1))+1j*np.random.random(((2,N,N//2+1)))\n",
    "v_hat=np.concatenate((v_rhat, np.conj(np.fliplr(v_rhat[:,:, 1:-1]))), axis=2)\n",
    "v_rhat2 = v_hat[:,:,0:(N//2+1)]\n",
    "print(np.shape(v_rhat2))\n",
    "print(np.amax(np.abs(v_rhat2-v_rhat)))\n",
    "print(np.allclose(v_rhat2,v_rhat))"
   ]
  },
  {
   "cell_type": "code",
   "execution_count": null,
   "metadata": {},
   "outputs": [],
   "source": [
    "from integrators import RK4, RK4_timestepper, FE_timestepper\n",
    "from tools import ScalarTool, VectorTool, create_grid, dt_cfl\n",
    "from operators import OperatorKit\n",
    "import numpy as np\n",
    "import matplotlib.pyplot as plt\n",
    "from copy import copy\n",
    "\n",
    "import time\n",
    "\n",
    "# Parameters\n",
    "L = 1.0\n",
    "N = 64\n",
    "Pe = 100.0\n",
    "kappa = 1.0/Pe\n",
    "U=1.0\n",
    "\n",
    "# Create tool box\n",
    "st = ScalarTool(N,L)\n",
    "vt = VectorTool(N,L)\n",
    "okit = OperatorKit(N, L, kappa)\n",
    "\n",
    "th = np.random.random((st.N,st.N))\n",
    "th_hat = np.fft.fftn(th)\n",
    "th_rhat = st.hat_2_rhat(th_hat)\n",
    "th2= np.fft.irfftn(th_rhat)\n",
    "# st.plot(th)\n",
    "# plt.show()\n",
    "# st.plot(th2)\n",
    "# plt.show()\n",
    "print(np.allclose(th,th2))\n",
    "\n",
    "th_rhat_2 = np.fft.rfftn(th)\n",
    "#th_hat_2 = st.rhat_2_hat(th_rhat_2)\n",
    "\n",
    "# print(np.shape(np.fliplr(th_rhat_2[:, 1:-1])))\n",
    "# th_hat_2=np.concatenate([th_rhat_2, np.conj(np.fliplr(th_rhat_2[:, 1:-1]))], axis=1)\n",
    "th_hat_2=np.concatenate((th_rhat,np.conj(th_rhat)[:,-2:0:-1]),axis=1)\n",
    "th3 = np.real(np.fft.ifftn(th_hat_2))\n",
    "\n",
    "\n",
    "# st.plot(th)\n",
    "# plt.show()\n",
    "# st.plot(th2)\n",
    "# plt.show()\n",
    "#print(np.allclose(th,th3))\n",
    "# print(np.allclose(th_hat,th_hat_2))\n",
    "b=th_hat[:,(N//2+1):]\n",
    "b2=np.conj(np.fliplr(th_rhat_2[:, 1:-1]))\n",
    "print(np.isclose(b,b2))\n",
    "\n",
    "# # print(np.allclose(th,th2))\n",
    "\n",
    "# # print(th_hat)\n",
    "# # print(np.conj(th_hat_2))"
   ]
  },
  {
   "cell_type": "code",
   "execution_count": null,
   "metadata": {},
   "outputs": [],
   "source": [
    "N=st.N\n",
    "scalar = np.random.random((st.N,st.N))\n",
    "scalar_rhat=np.fft.rfftn(scalar)\n",
    "b=np.conj(np.fliplr(scalar_rhat[:, 1:-1]))\n",
    "a=scalar_rhat\n",
    "print(np.shape(a))\n",
    "print(np.shape(b))\n",
    "c=np.concatenate((a,b),axis=1)\n",
    "c2=np.concatenate((scalar_rhat, np.conj(np.fliplr(scalar_rhat[:, 1:-1]))), axis=1)\n",
    "print(np.amax(np.abs(c-c2)))\n",
    "print(np.allclose(c,c2))\n",
    "np.shape(c)"
   ]
  },
  {
   "cell_type": "code",
   "execution_count": null,
   "metadata": {},
   "outputs": [],
   "source": [
    "np.conj(4.70080477e+00j)"
   ]
  },
  {
   "cell_type": "code",
   "execution_count": null,
   "metadata": {},
   "outputs": [],
   "source": [
    "print(th_rhat_2[:, 1:-1])\n",
    "print(np.shape(th_rhat_2[:, 1:-1]))\n",
    "print(np.shape(np.conj(np.fliplr(th_rhat_2[:, 1:-1]))))\n",
    "print(np.conj(np.fliplr(th_rhat_2[:, 1:-1])))"
   ]
  },
  {
   "cell_type": "code",
   "execution_count": null,
   "metadata": {},
   "outputs": [],
   "source": [
    "a=np.fft.fft([0.,1,0,-1,1.5,0])\n",
    "b=np.fft.rfft([0.,1,0,-1,1.5,0])\n",
    "\n",
    "print(a[-1],np.conj(b[1]))\n",
    "c=np.concatenate([b,np.conj(b[-1:1:-1])], axis=0)\n",
    "print(np.allclose(a,c))\n",
    "print(a)\n",
    "print(c)"
   ]
  },
  {
   "cell_type": "code",
   "execution_count": null,
   "metadata": {},
   "outputs": [],
   "source": [
    "print(np.allclose(th_hat,th_hat_2))\n",
    "b=th_hat[:,(N//2+1):]\n",
    "b2=np.conj(np.fliplr(th_rhat_2[:, 1:-1]))\n",
    "print(np.isclose(b,b2))"
   ]
  },
  {
   "cell_type": "code",
   "execution_count": null,
   "metadata": {},
   "outputs": [],
   "source": [
    "b=[0,1,2,3,4]\n",
    "b[-2:0:-1]\n",
    "a=np.array([[1,2,3,4,5,6],[6,2,3,4,3,2],[1,2,4,4,2,6],[1,2,3,3,5,6],[1,3,3,4,5,1],[1,6,3,4,4,6]])\n",
    "print(a)\n",
    "#print(np.fliplr(a[:,1:-1]))\n",
    "\n",
    "a=np.random.random((st.N,st.N))\n",
    "\n",
    "f=np.fft.fftn(a)\n",
    "fr=np.fft.rfftn(a)\n",
    "\n",
    "print(f)\n",
    "print(fr)\n",
    "\n",
    "f2=np.concatenate((fr,np.conj(fr)[:,-2:0:-1]),axis=1)\n",
    "np.isclose(f,f2)\n",
    "print(f[:,-1],f[:,1])"
   ]
  },
  {
   "cell_type": "code",
   "execution_count": null,
   "metadata": {},
   "outputs": [],
   "source": [
    "N=64\n",
    "Nf= N // 2 + 1\n",
    "kx = np.fft.fftfreq(N, 1. / N).astype(float)\n",
    "ky = kx[:Nf].copy()\n",
    "ky[-1] *= -1\n",
    "K = np.array(np.meshgrid(kx, ky, indexing='ij'), dtype=int)\n",
    "print(K)"
   ]
  },
  {
   "cell_type": "code",
   "execution_count": null,
   "metadata": {},
   "outputs": [],
   "source": [
    "kx"
   ]
  },
  {
   "cell_type": "code",
   "execution_count": null,
   "metadata": {},
   "outputs": [],
   "source": [
    "ky"
   ]
  },
  {
   "cell_type": "code",
   "execution_count": null,
   "metadata": {},
   "outputs": [],
   "source": [
    "print(f[1:3,-1],np.conj(f[1:3,1]))"
   ]
  },
  {
   "cell_type": "code",
   "execution_count": 7,
   "metadata": {},
   "outputs": [
    {
     "ename": "NameError",
     "evalue": "name 'PFFT' is not defined",
     "output_type": "error",
     "traceback": [
      "\u001b[0;31m---------------------------------------------------------------------------\u001b[0m",
      "\u001b[0;31mNameError\u001b[0m                                 Traceback (most recent call last)",
      "\u001b[0;32m<ipython-input-7-c220c6a6631d>\u001b[0m in \u001b[0;36m<module>\u001b[0;34m()\u001b[0m\n\u001b[1;32m     27\u001b[0m \u001b[0;31m#FFT = R2C(N, L, MPI.COMM_WORLD, \"double\", None, alignment='X', communication='Alltoallw')\u001b[0m\u001b[0;34m\u001b[0m\u001b[0;34m\u001b[0m\u001b[0m\n\u001b[1;32m     28\u001b[0m \u001b[0mFFT\u001b[0m \u001b[0;34m=\u001b[0m \u001b[0mR2C\u001b[0m\u001b[0;34m(\u001b[0m\u001b[0mN\u001b[0m\u001b[0;34m,\u001b[0m \u001b[0mL\u001b[0m\u001b[0;34m,\u001b[0m \u001b[0mMPI\u001b[0m\u001b[0;34m.\u001b[0m\u001b[0mCOMM_WORLD\u001b[0m\u001b[0;34m,\u001b[0m \u001b[0;34m\"double\"\u001b[0m\u001b[0;34m,\u001b[0m \u001b[0mcommunication\u001b[0m\u001b[0;34m=\u001b[0m\u001b[0;34m'Alltoallw'\u001b[0m\u001b[0;34m)\u001b[0m\u001b[0;34m\u001b[0m\u001b[0m\n\u001b[0;32m---> 29\u001b[0;31m \u001b[0mfft\u001b[0m \u001b[0;34m=\u001b[0m \u001b[0mPFFT\u001b[0m\u001b[0;34m(\u001b[0m\u001b[0mMPI\u001b[0m\u001b[0;34m.\u001b[0m\u001b[0mCOMM_WORLD\u001b[0m\u001b[0;34m,\u001b[0m \u001b[0mN\u001b[0m\u001b[0;34m,\u001b[0m \u001b[0mcollapse\u001b[0m\u001b[0;34m=\u001b[0m\u001b[0;32mFalse\u001b[0m\u001b[0;34m,\u001b[0m \u001b[0mslab\u001b[0m\u001b[0;34m=\u001b[0m\u001b[0;36m2\u001b[0m\u001b[0;34m)\u001b[0m\u001b[0;34m\u001b[0m\u001b[0m\n\u001b[0m\u001b[1;32m     30\u001b[0m \u001b[0;34m\u001b[0m\u001b[0m\n\u001b[1;32m     31\u001b[0m \u001b[0mU\u001b[0m \u001b[0;34m=\u001b[0m \u001b[0mrandom\u001b[0m\u001b[0;34m.\u001b[0m\u001b[0mrandom\u001b[0m\u001b[0;34m(\u001b[0m\u001b[0mFFT\u001b[0m\u001b[0;34m.\u001b[0m\u001b[0mreal_shape\u001b[0m\u001b[0;34m(\u001b[0m\u001b[0;34m)\u001b[0m\u001b[0;34m)\u001b[0m\u001b[0;34m.\u001b[0m\u001b[0mastype\u001b[0m\u001b[0;34m(\u001b[0m\u001b[0mFFT\u001b[0m\u001b[0;34m.\u001b[0m\u001b[0mfloat\u001b[0m\u001b[0;34m)\u001b[0m \u001b[0;31m# real_shape = (N[0]//comm.Get_size(), N[1], N[2])\u001b[0m\u001b[0;34m\u001b[0m\u001b[0m\n",
      "\u001b[0;31mNameError\u001b[0m: name 'PFFT' is not defined"
     ]
    }
   ],
   "source": [
    "\n",
    "__author__ = \"Mikael Mortensen <mikaem@math.uio.no>\"\n",
    "__date__ = \"2016-03-09\"\n",
    "__copyright__ = \"Copyright (C) 2016 \" + __author__\n",
    "__license__  = \"GNU Lesser GPL version 3 or any later version\"\n",
    "\n",
    "from numpy import *\n",
    "from mpi4py import MPI\n",
    "#from mpiFFT4py.pencil import R2C\n",
    "from mpiFFT4py.slab import R2C\n",
    "from mpi4py_fft.mpifft import PFFT\n",
    "from time import time\n",
    "\n",
    "#assert MPI.COMM_WORLD.Get_size() >= 4\n",
    "\n",
    "# Set global size of the computational box\n",
    "M = 6\n",
    "N = array([2**M, 2**M, 2**M], dtype=int)\n",
    "L = array([2*pi, 2*pi, 2*pi], dtype=float)\n",
    "\n",
    "# Create an instance of the R2C class for performing 3D FFTs in parallel\n",
    "# on a cube of size N points and physical size L. The mesh decomposition is\n",
    "# performed by the FFT class using a slab decomposition. With slab decomposition\n",
    "# the first index in real physical space is shared amongst the processors,\n",
    "# whereas in wavenumber space the second index is shared.\n",
    "\n",
    "#FFT = R2C(N, L, MPI.COMM_WORLD, \"double\", None, alignment='X', communication='Alltoallw')\n",
    "FFT = R2C(N, L, MPI.COMM_WORLD, \"double\", communication='Alltoallw')\n",
    "fft = PFFT(MPI.COMM_WORLD, N, collapse=False, slab=2)\n",
    "\n",
    "U = random.random(FFT.real_shape()).astype(FFT.float) # real_shape = (N[0]//comm.Get_size(), N[1], N[2])\n",
    "U_copy = zeros_like(U)\n",
    "U_hat = zeros(FFT.complex_shape(), dtype=FFT.complex) # complex_shape = (N[0], N[1]//comm.Get_size(), N[2]//2+1)\n",
    "\n",
    "# Perform forward FFT. Real transform in third direction, complex in first two\n",
    "U_hat = FFT.fftn(U, U_hat)\n",
    "\n",
    "# Perform inverse FFT.\n",
    "U_copy = FFT.ifftn(U_hat, U_copy)\n",
    "MPI.COMM_WORLD.barrier()\n",
    "t0 = time()\n",
    "U_hat = FFT.fftn(U, U_hat)\n",
    "U_copy = FFT.ifftn(U_hat, U_copy)\n",
    "print(\"mpiFFT4py \", time()-t0)\n",
    "###########\n",
    "u = random.random(fft.forward.input_array.shape).astype(fft.forward.input_array.dtype)\n",
    "MPI.COMM_WORLD.barrier()\n",
    "t0 = time()\n",
    "u_hat = fft.forward(u)\n",
    "u_copy = fft.backward(u_hat)\n",
    "print(\"mpi4py-fft \", time()-t0)\n",
    "#########\n",
    "\n",
    "tol = 1e-6 if FFT.float == float32 else 1e-10\n",
    "\n",
    "assert allclose(U, U_copy, tol, tol)\n",
    "assert allclose(u, u_copy, tol, tol)"
   ]
  },
  {
   "cell_type": "code",
   "execution_count": null,
   "metadata": {
    "collapsed": true
   },
   "outputs": [],
   "source": []
  }
 ],
 "metadata": {
  "kernelspec": {
   "display_name": "Python 3",
   "language": "python",
   "name": "python3"
  },
  "language_info": {
   "codemirror_mode": {
    "name": "ipython",
    "version": 3
   },
   "file_extension": ".py",
   "mimetype": "text/x-python",
   "name": "python",
   "nbconvert_exporter": "python",
   "pygments_lexer": "ipython3",
   "version": "3.6.2"
  }
 },
 "nbformat": 4,
 "nbformat_minor": 2
}
