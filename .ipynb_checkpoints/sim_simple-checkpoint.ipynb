{
 "cells": [
  {
   "cell_type": "code",
   "execution_count": 14,
   "metadata": {},
   "outputs": [
    {
     "name": "stdout",
     "output_type": "stream",
     "text": [
      "0.009765625\n",
      "0.0010101010101\n"
     ]
    },
    {
     "name": "stderr",
     "output_type": "stream",
     "text": [
      "/Users/cmiless/Dropbox/projects/spde/integrators.py:39: ComplexWarning: Casting complex values to real discards the imaginary part\n",
      "  th[0] = th0\n",
      "/Users/cmiless/Dropbox/projects/spde/integrators.py:42: ComplexWarning: Casting complex values to real discards the imaginary part\n",
      "  th[i] = RK4_timestepper(op, th[i - 1], dt)\n"
     ]
    }
   ],
   "source": [
    "from integrators import RK4, RK4_timestepper, FE_timestepper\n",
    "from tools import ScalarTool, VectorTool, create_grid, dt_cfl\n",
    "from operators import OperatorKit\n",
    "import numpy as np\n",
    "import matplotlib.pyplot as plt\n",
    "from copy import copy\n",
    "\n",
    "# Parameters\n",
    "L = 2.0\n",
    "N = 64\n",
    "kappa = 0.1\n",
    "U=1\n",
    "\n",
    "st = ScalarTool(N,L)\n",
    "vt = VectorTool(N,L)\n",
    "opkit = OperatorKit(N,L, kappa)\n",
    "\n",
    "\n",
    "X = create_grid(N, L)\n",
    "# th0_hat = st.fft(np.sin((2.0 * np.pi / L) * X[0]))\n",
    "# okit = OperatorKit(N, L, kappa)\n",
    "\n",
    "# def op_hat(th_hat):\n",
    "#     return okit.sin_flow_op_hat(th_hat)\n",
    "\n",
    "# st = ScalarTool(N, L)\n",
    "\n",
    "# dt0 = dt_cfl(N,L,kappa,U) # largest time step\n",
    "# print(dt0)\n",
    "# tarray=np.linspace(0,0.1,100)\n",
    "# print(tarray[1]-tarray[0])\n",
    "# th_hat=RK4(op_hat, th0_hat, tarray)\n",
    "# st.plot(np.real(st.ifft(th_hat[-1])))\n",
    "\n",
    "th0 = np.sin((2.0 * np.pi / L) * X[0])\n",
    "okit = OperatorKit(N, L, kappa)\n",
    "\n",
    "def op(th):\n",
    "    return okit.sin_flow_op(th)\n",
    "\n",
    "st = ScalarTool(N, L)\n",
    "\n",
    "dt0 = dt_cfl(N,L,kappa,U) # largest time step\n",
    "print(dt0)\n",
    "tarray=np.linspace(0,0.1,100)\n",
    "print(tarray[1]-tarray[0])\n",
    "th_hat=RK4(op_hat, th0_hat, tarray)\n",
    "st.plot(np.real(st.ifft(th_hat[-1])))"
   ]
  },
  {
   "cell_type": "code",
   "execution_count": 4,
   "metadata": {},
   "outputs": [
    {
     "data": {
      "image/png": "[encoded data removed]",
      "text/plain": [
       "<matplotlib.figure.Figure at 0x1177fc0f0>"
      ]
     },
     "metadata": {},
     "output_type": "display_data"
    }
   ],
   "source": [
    "plt.loglog(dt_list[1:-1],error[1:],'.')\n",
    "plt.loglog(dt_list[1:-1],dt_list[1:-1]**4)\n",
    "plt.loglog(L**2/(N**2*kappa),10**(-9),'x')\n",
    "plt.loglog(L/(N),10**(-9),'o')\n",
    "plt.show()"
   ]
  },
  {
   "cell_type": "code",
   "execution_count": null,
   "metadata": {},
   "outputs": [],
   "source": [
    "dt_list[1:-1] "
   ]
  },
  {
   "cell_type": "code",
   "execution_count": null,
   "metadata": {},
   "outputs": [],
   "source": [
    "prinL*kappa"
   ]
  },
  {
   "cell_type": "code",
   "execution_count": null,
   "metadata": {},
   "outputs": [],
   "source": [
    "0.2*L**2/(N**2*kappa)"
   ]
  },
  {
   "cell_type": "code",
   "execution_count": null,
   "metadata": {},
   "outputs": [],
   "source": [
    "error"
   ]
  },
  {
   "cell_type": "code",
   "execution_count": null,
   "metadata": {},
   "outputs": [],
   "source": [
    "N=128\n",
    "L=2.0\n",
    "U=1\n",
    "kappa = 0.5\n",
    "dt0=min(L/(N*U),L**2/(N**2*kappa))\n",
    "print(dt0)\n",
    "print(np.array([dt0,dt0/2,dt0/4])**1)"
   ]
  },
  {
   "cell_type": "code",
   "execution_count": null,
   "metadata": {},
   "outputs": [],
   "source": [
    "np.arange(0, 3, 1)"
   ]
  },
  {
   "cell_type": "code",
   "execution_count": null,
   "metadata": {},
   "outputs": [],
   "source": [
    "min(L/(N*U),L**2/(N**2*kappa))"
   ]
  },
  {
   "cell_type": "code",
   "execution_count": null,
   "metadata": {},
   "outputs": [],
   "source": [
    "N=128\n",
    "L=2.0\n",
    "U=1\n",
    "kappa = 0.5\n",
    "dt0=min(L/(N*U),L**2/(N**2*kappa))\n",
    "print(dt0)"
   ]
  },
  {
   "cell_type": "code",
   "execution_count": 16,
   "metadata": {},
   "outputs": [
    {
     "data": {
      "image/png": "[encoded data removed]",
      "text/plain": [
       "<matplotlib.figure.Figure at 0x117359e10>"
      ]
     },
     "metadata": {},
     "output_type": "display_data"
    }
   ],
   "source": [
    "st.plot(np.real(st.ifft(th_hat[-1])))\n",
    "plt.show()"
   ]
  },
  {
   "cell_type": "code",
   "execution_count": null,
   "metadata": {
    "collapsed": true
   },
   "outputs": [],
   "source": []
  }
 ],
 "metadata": {
  "kernelspec": {
   "display_name": "Python 3",
   "language": "python",
   "name": "python3"
  },
  "language_info": {
   "codemirror_mode": {
    "name": "ipython",
    "version": 3
   },
   "file_extension": ".py",
   "mimetype": "text/x-python",
   "name": "python",
   "nbconvert_exporter": "python",
   "pygments_lexer": "ipython3",
   "version": "3.6.2"
  }
 },
 "nbformat": 4,
 "nbformat_minor": 2
}
